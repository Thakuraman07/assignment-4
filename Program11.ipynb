{
 "cells": [
  {
   "cell_type": "markdown",
   "id": "9ca1870d-8c28-49b1-9db2-28221fc2adb1",
   "metadata": {},
   "source": [
    "# Create a offer letter for a candidate"
   ]
  },
  {
   "cell_type": "markdown",
   "id": "83786235-b0be-4bb9-bdee-7658de19aedf",
   "metadata": {},
   "source": [
    "# Take input from user for each variable"
   ]
  },
  {
   "cell_type": "code",
   "execution_count": 34,
   "id": "67622a7e-a465-41d5-85ef-f351f76886d3",
   "metadata": {},
   "outputs": [
    {
     "name": "stdout",
     "output_type": "stream",
     "text": [
      "A/52secto-16 noida UP\n",
      "Dear Rohit kumar\n",
      "\n",
      "\n",
      "Subject: Offer letter of Employment for the position of python Developer\n",
      "\n",
      "\n",
      "          We are delighted to extend this formal offer of employment to you \n",
      "          for the position of Python Developer at our organization. Based on your \n",
      "          qualifications and the skills you demonstrated during the \n",
      "          recruitment process, we are confident that you will be a valuable \n",
      "          addition to our team.\n",
      "\n",
      "\n",
      "         As discussed, your expected date of joining is 01-01-20213. Your \n",
      "         total compensation package will be 2545558562, which includes all \n",
      "         salary components as per the company’s policy. Further details \n",
      "         regarding your compensation will be provided in your employment contract.\n",
      "\n",
      "\n",
      "          We expect you to bring your best efforts to help the company\n",
      "         achieve its goals, and we are committed to supporting your professional \n",
      "         growth during your time with us.\n",
      "\n",
      "\n",
      "         Please confirm your acceptance of this offer by sending an email  \n",
      "         to RKT6543@gmail.com at your earliest convenience. Should you \n",
      "         have any queries regarding this offer, feel free to reach out to \n",
      "         us.\n",
      "\n",
      "\n",
      "         We look forward to having you onboard and are excited about the great     \n",
      "         things we can accomplish together. \n",
      "\n",
      "\n",
      "         sincerely\n",
      "\n",
      "\n",
      "         sunil kumar\n",
      "         HR Manager\n"
     ]
    }
   ],
   "source": [
    "sector=\"A/52\"\n",
    "place=\"secto-16 noida UP\"\n",
    "print(f\"{sector}{place}\")\n",
    "name=\"Rohit kumar\"\n",
    "print(f\"Dear {name}\")\n",
    "print(\"\\n\")\n",
    "print(\"Subject: Offer letter of Employment for the position of python Developer\")\n",
    "print(\"\\n\")\n",
    "\n",
    "\n",
    "\n",
    "post=\"Python Developer\"\n",
    "print(f\"\"\"          We are delighted to extend this formal offer of employment to you \n",
    "          for the position of {post} at our organization. Based on your \n",
    "          qualifications and the skills you demonstrated during the \n",
    "          recruitment process, we are confident that you will be a valuable \n",
    "          addition to our team.\"\"\") \n",
    "print(\"\\n\")\n",
    "\n",
    "\n",
    "\n",
    "date=\"01-01-20213\"\n",
    "package=2545558562\n",
    "print(\"\"\"         As discussed, your expected date of joining is {}. Your \n",
    "         total compensation package will be {}, which includes all \n",
    "         salary components as per the company’s policy. Further details \n",
    "         regarding your compensation will be provided in your employment contract.\"\"\".format(date,package))\n",
    "print(\"\\n\")\n",
    "\n",
    "\n",
    "\n",
    "print(\"\"\"          We expect you to bring your best efforts to help the company\n",
    "         achieve its goals, and we are committed to supporting your professional \n",
    "         growth during your time with us.\"\"\")\n",
    "print(\"\\n\")\n",
    "\n",
    "\n",
    "email=\"RKT6543@gmail.com\"\n",
    "print(\"\"\"         Please confirm your acceptance of this offer by sending an email  \n",
    "         to {} at your earliest convenience. Should you \n",
    "         have any queries regarding this offer, feel free to reach out to \n",
    "         us.\"\"\".format(email))\n",
    "print(\"\\n\")\n",
    "\n",
    "\n",
    "print(\"\"\"         We look forward to having you onboard and are excited about the great     \n",
    "         things we can accomplish together. \"\"\")\n",
    "print(\"\\n\")\n",
    "\n",
    "\n",
    "\n",
    "print(\"\"\"         sincerely\"\"\")\n",
    "\n",
    "print(\"\\n\")\n",
    "name=\"sunil kumar\"\n",
    "post=\"HR Manager\"\n",
    "print(f\"\"\"         {name}\n",
    "         {post}\"\"\")"
   ]
  },
  {
   "cell_type": "code",
   "execution_count": null,
   "id": "8aa4e1a9-7b14-406c-af80-017d6e57d31f",
   "metadata": {},
   "outputs": [],
   "source": []
  }
 ],
 "metadata": {
  "kernelspec": {
   "display_name": "Python 3 (ipykernel)",
   "language": "python",
   "name": "python3"
  },
  "language_info": {
   "codemirror_mode": {
    "name": "ipython",
    "version": 3
   },
   "file_extension": ".py",
   "mimetype": "text/x-python",
   "name": "python",
   "nbconvert_exporter": "python",
   "pygments_lexer": "ipython3",
   "version": "3.13.5"
  }
 },
 "nbformat": 4,
 "nbformat_minor": 5
}
